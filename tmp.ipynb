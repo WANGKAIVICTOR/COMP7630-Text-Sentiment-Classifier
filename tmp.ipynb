{
 "cells": [
  {
   "cell_type": "code",
   "execution_count": null,
   "metadata": {},
   "outputs": [],
   "source": [
    "!pip install wordcloud\n",
    "!pip install - U spacy\n"
   ]
  },
  {
   "cell_type": "code",
   "execution_count": 1,
   "metadata": {},
   "outputs": [],
   "source": [
    "import csv\n",
    "\n",
    "#data manipulation\n",
    "import pandas as pd\n",
    "import numpy as np\n",
    "\n",
    "#visualization\n",
    "import matplotlib.pyplot as plt\n",
    "import seaborn as sns\n",
    "\n",
    "#text packages\n",
    "from sklearn.feature_extraction.text import CountVectorizer\n",
    "from sklearn.feature_extraction.text import TfidfVectorizer\n",
    "from wordcloud import WordCloud, STOPWORDS\n",
    "import spacy\n",
    "from bs4 import BeautifulSoup\n",
    "\n",
    "#model preparation & selection\n",
    "from sklearn.model_selection import validation_curve, train_test_split\n",
    "from sklearn.metrics import f1_score\n",
    "from sklearn.linear_model import LogisticRegression\n",
    "from sklearn.svm import SVC, LinearSVC\n",
    "from sklearn.neighbors import KNeighborsClassifier\n",
    "from sklearn.naive_bayes import GaussianNB\n",
    "\n",
    "import warnings\n",
    "warnings.filterwarnings(\"ignore\")\n"
   ]
  },
  {
   "attachments": {},
   "cell_type": "markdown",
   "metadata": {},
   "source": [
    "# Import data"
   ]
  },
  {
   "cell_type": "code",
   "execution_count": 2,
   "metadata": {},
   "outputs": [
    {
     "name": "stdout",
     "output_type": "stream",
     "text": [
      "(14050, 3)\n"
     ]
    },
    {
     "data": {
      "text/html": [
       "<div>\n",
       "<style scoped>\n",
       "    .dataframe tbody tr th:only-of-type {\n",
       "        vertical-align: middle;\n",
       "    }\n",
       "\n",
       "    .dataframe tbody tr th {\n",
       "        vertical-align: top;\n",
       "    }\n",
       "\n",
       "    .dataframe thead th {\n",
       "        text-align: right;\n",
       "    }\n",
       "</style>\n",
       "<table border=\"1\" class=\"dataframe\">\n",
       "  <thead>\n",
       "    <tr style=\"text-align: right;\">\n",
       "      <th></th>\n",
       "      <th>name</th>\n",
       "      <th>comment</th>\n",
       "      <th>label</th>\n",
       "    </tr>\n",
       "  </thead>\n",
       "  <tbody>\n",
       "    <tr>\n",
       "      <th>0</th>\n",
       "      <td>juniper</td>\n",
       "      <td>Filmmakers should showcase Rampling’s indomita...</td>\n",
       "      <td>rotten</td>\n",
       "    </tr>\n",
       "    <tr>\n",
       "      <th>1</th>\n",
       "      <td>juniper</td>\n",
       "      <td>Savilles directorial debut is solid just like ...</td>\n",
       "      <td>fresh</td>\n",
       "    </tr>\n",
       "    <tr>\n",
       "      <th>2</th>\n",
       "      <td>juniper</td>\n",
       "      <td>It feels personal in a lot of the details and ...</td>\n",
       "      <td>fresh</td>\n",
       "    </tr>\n",
       "    <tr>\n",
       "      <th>3</th>\n",
       "      <td>juniper</td>\n",
       "      <td>We've seen this a million times -- but not wit...</td>\n",
       "      <td>fresh</td>\n",
       "    </tr>\n",
       "    <tr>\n",
       "      <th>4</th>\n",
       "      <td>juniper</td>\n",
       "      <td>Juniper takes some time to get where it is goi...</td>\n",
       "      <td>fresh</td>\n",
       "    </tr>\n",
       "  </tbody>\n",
       "</table>\n",
       "</div>"
      ],
      "text/plain": [
       "      name                                            comment   label\n",
       "0  juniper  Filmmakers should showcase Rampling’s indomita...  rotten\n",
       "1  juniper  Savilles directorial debut is solid just like ...   fresh\n",
       "2  juniper  It feels personal in a lot of the details and ...   fresh\n",
       "3  juniper  We've seen this a million times -- but not wit...   fresh\n",
       "4  juniper  Juniper takes some time to get where it is goi...   fresh"
      ]
     },
     "execution_count": 2,
     "metadata": {},
     "output_type": "execute_result"
    }
   ],
   "source": [
    "text_data = pd.read_csv('movies.csv', header=0)\n",
    "text_data.columns = [\"name\", \"comment\", \"label\"]\n",
    "print(text_data.shape)\n",
    "text_data = text_data.astype(str)\n",
    "text_data.head()\n"
   ]
  },
  {
   "attachments": {},
   "cell_type": "markdown",
   "metadata": {},
   "source": [
    "# Process data"
   ]
  },
  {
   "cell_type": "code",
   "execution_count": 3,
   "metadata": {},
   "outputs": [
    {
     "name": "stdout",
     "output_type": "stream",
     "text": [
      "0        Filmmakers showcase Ramplings indomitable pres...\n",
      "1        Savilles directorial debut solid like script g...\n",
      "2        It feels personal lot details production desig...\n",
      "3        Weve seen million times -- Charlotte Rampling ...\n",
      "4        Juniper takes time going invested odd couple f...\n",
      "                               ...                        \n",
      "14045    Although Sachs sustain cinematic promise The D...\n",
      "14046    This intimate gay drama complex relationship w...\n",
      "14047                                                  nan\n",
      "14048                                                  nan\n",
      "14049    A compelling drama suffering servanthood minis...\n",
      "Name: comment, Length: 14050, dtype: object\n"
     ]
    }
   ],
   "source": [
    "import pandas as pd\n",
    "import re\n",
    "from bs4 import BeautifulSoup\n",
    "import spacy\n",
    "from spacy.lang.en.stop_words import STOP_WORDS\n",
    "\n",
    "# Load the spaCy language model\n",
    "nlp = spacy.load('en_core_web_sm')\n",
    "\n",
    "\n",
    "def preprocess_text(df):\n",
    "    # Remove Emails\n",
    "    df['comment'] = df['comment'].apply(lambda x: re.sub(\n",
    "        r'([a-zA-Z0-9+._-]+@[a-zA-Z0-9._-]+\\.[a-zA-Z0-9_-]+)', '', x))\n",
    "\n",
    "    # Remove urls\n",
    "    df['comment'] = df['comment'].apply(lambda x: re.sub(\n",
    "        r'(http|ftp|https)://([\\w_-]+(?:(?:\\.[\\w_-]+)+))([\\w.,@?^=%&:/~+#-]*[\\w@?^=%&/~+#-])?', '', x))\n",
    "\n",
    "    # Removal of special chars and punctuation\n",
    "    df['comment'] = df['comment'].apply(\n",
    "        lambda x: re.sub('[^a-z A-Z 0-9-]+', '', x))\n",
    "\n",
    "    # Removing multiple spaces\n",
    "    df['comment'] = df['comment'].apply(lambda x: ' '.join(x.split()))\n",
    "\n",
    "    # Remove HTML\n",
    "    df['comment'] = df['comment'].apply(\n",
    "        lambda x: BeautifulSoup(x, 'lxml').get_text())\n",
    "\n",
    "    # Create a spaCy Doc object\n",
    "    df['comment'] = df['comment'].apply(lambda x: ' '.join(\n",
    "        [t for t in x.split() if t not in STOP_WORDS]))\n",
    "\n",
    "    return df\n",
    "\n",
    "df = preprocess_text(text_data)\n",
    "print(df['comment'])  # Output: \"example text email punctuation\"\n"
   ]
  },
  {
   "attachments": {},
   "cell_type": "markdown",
   "metadata": {},
   "source": [
    "# Train SVM"
   ]
  },
  {
   "cell_type": "code",
   "execution_count": 5,
   "metadata": {},
   "outputs": [],
   "source": [
    "vec = TfidfVectorizer(stop_words='english', min_df=7,\n",
    "                      ngram_range=(1, 2), max_df=0.8)\n",
    "X_data = vec.fit_transform(df['comment'])\n",
    "df['sentiment_score'] = np.where(\n",
    "    df['label'] == 'fresh', 1, 0)\n",
    "Y_data = df['sentiment_score']\n",
    "\n",
    "Xtrain, Xtest, Ytrain, Ytest = train_test_split(\n",
    "    X_data, Y_data, test_size=0.15, random_state=0)\n",
    "\n",
    "#Support Vector Machine (not cross-validating here)\n",
    "clf = SVC(kernel='linear', probability=True).fit(Xtrain, Ytrain)\n",
    "clf_score = clf.score(Xtest, Ytest)\n",
    "\n",
    "\n",
    "# # Train the SVM classifier\n",
    "# classifier = SVC(kernel='linear')\n",
    "# classifier.fit(vectorized_sentences, labels)\n"
   ]
  },
  {
   "cell_type": "code",
   "execution_count": 6,
   "metadata": {},
   "outputs": [
    {
     "name": "stdout",
     "output_type": "stream",
     "text": [
      "The accuracy for the Linear SVC model is 0.8946869070208728\n",
      "The F1 for the Linear SVC model is 0.9316081330868762\n"
     ]
    }
   ],
   "source": [
    "print('The accuracy for the Linear SVC model is '+str(clf_score))\n",
    "clf_f1score = f1_score(Ytest, clf.predict(Xtest))\n",
    "print('The F1 for the Linear SVC model is '+str(clf_f1score))"
   ]
  },
  {
   "cell_type": "code",
   "execution_count": 7,
   "metadata": {},
   "outputs": [
    {
     "name": "stdout",
     "output_type": "stream",
     "text": [
      "[1]\n"
     ]
    }
   ],
   "source": [
    "# Test on a new sentence\n",
    "test_sentence = [\"This movie is amazing\"]\n",
    "test_vectorized_sentence = vec.transform(test_sentence)\n",
    "prediction = clf.predict(test_vectorized_sentence)\n",
    "print(prediction)  # Output: [1] (positive sentiment)\n"
   ]
  }
 ],
 "metadata": {
  "kernelspec": {
   "display_name": "py37",
   "language": "python",
   "name": "python3"
  },
  "language_info": {
   "codemirror_mode": {
    "name": "ipython",
    "version": 3
   },
   "file_extension": ".py",
   "mimetype": "text/x-python",
   "name": "python",
   "nbconvert_exporter": "python",
   "pygments_lexer": "ipython3",
   "version": "3.7.11"
  },
  "orig_nbformat": 4
 },
 "nbformat": 4,
 "nbformat_minor": 2
}
