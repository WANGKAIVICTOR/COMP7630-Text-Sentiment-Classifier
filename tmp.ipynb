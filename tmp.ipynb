{
 "cells": [
  {
   "cell_type": "code",
   "execution_count": null,
   "metadata": {},
   "outputs": [],
   "source": [
    "!pip install wordcloud\n",
    "!pip install - U spacy\n"
   ]
  },
  {
   "cell_type": "code",
   "execution_count": 1,
   "metadata": {},
   "outputs": [],
   "source": [
    "import csv\n",
    "\n",
    "#data manipulation\n",
    "import pandas as pd\n",
    "import numpy as np\n",
    "\n",
    "#visualization\n",
    "import matplotlib.pyplot as plt\n",
    "import seaborn as sns\n",
    "\n",
    "#text packages\n",
    "from sklearn.feature_extraction.text import CountVectorizer\n",
    "from sklearn.feature_extraction.text import TfidfVectorizer\n",
    "from wordcloud import WordCloud, STOPWORDS\n",
    "import spacy\n",
    "from bs4 import BeautifulSoup\n",
    "\n",
    "#model preparation & selection\n",
    "from sklearn.model_selection import validation_curve, train_test_split\n",
    "from sklearn.metrics import f1_score\n",
    "from sklearn.linear_model import LogisticRegression\n",
    "from sklearn.svm import SVC, LinearSVC\n",
    "from sklearn.neighbors import KNeighborsClassifier\n",
    "from sklearn.naive_bayes import GaussianNB\n",
    "\n",
    "import warnings\n",
    "warnings.filterwarnings(\"ignore\")\n"
   ]
  },
  {
   "attachments": {},
   "cell_type": "markdown",
   "metadata": {},
   "source": [
    "# Import data"
   ]
  },
  {
   "cell_type": "code",
   "execution_count": 5,
   "metadata": {},
   "outputs": [
    {
     "name": "stdout",
     "output_type": "stream",
     "text": [
      "(21021, 3)\n"
     ]
    },
    {
     "data": {
      "text/html": [
       "<div>\n",
       "<style scoped>\n",
       "    .dataframe tbody tr th:only-of-type {\n",
       "        vertical-align: middle;\n",
       "    }\n",
       "\n",
       "    .dataframe tbody tr th {\n",
       "        vertical-align: top;\n",
       "    }\n",
       "\n",
       "    .dataframe thead th {\n",
       "        text-align: right;\n",
       "    }\n",
       "</style>\n",
       "<table border=\"1\" class=\"dataframe\">\n",
       "  <thead>\n",
       "    <tr style=\"text-align: right;\">\n",
       "      <th></th>\n",
       "      <th>name</th>\n",
       "      <th>comment</th>\n",
       "      <th>label</th>\n",
       "    </tr>\n",
       "  </thead>\n",
       "  <tbody>\n",
       "    <tr>\n",
       "      <th>0</th>\n",
       "      <td>chrissy_judy</td>\n",
       "      <td>Theres something quite refreshing about Chriss...</td>\n",
       "      <td>fresh</td>\n",
       "    </tr>\n",
       "    <tr>\n",
       "      <th>1</th>\n",
       "      <td>chrissy_judy</td>\n",
       "      <td>Chrissy Judy is a story about young adult cris...</td>\n",
       "      <td>fresh</td>\n",
       "    </tr>\n",
       "    <tr>\n",
       "      <th>2</th>\n",
       "      <td>chrissy_judy</td>\n",
       "      <td>Flaherty’s writing and performance make no pre...</td>\n",
       "      <td>fresh</td>\n",
       "    </tr>\n",
       "    <tr>\n",
       "      <th>3</th>\n",
       "      <td>chrissy_judy</td>\n",
       "      <td>A torch song of a film.</td>\n",
       "      <td>fresh</td>\n",
       "    </tr>\n",
       "    <tr>\n",
       "      <th>4</th>\n",
       "      <td>chrissy_judy</td>\n",
       "      <td>Refreshingly witty honest tender and funny</td>\n",
       "      <td>fresh</td>\n",
       "    </tr>\n",
       "  </tbody>\n",
       "</table>\n",
       "</div>"
      ],
      "text/plain": [
       "           name                                            comment  label\n",
       "0  chrissy_judy  Theres something quite refreshing about Chriss...  fresh\n",
       "1  chrissy_judy  Chrissy Judy is a story about young adult cris...  fresh\n",
       "2  chrissy_judy  Flaherty’s writing and performance make no pre...  fresh\n",
       "3  chrissy_judy                            A torch song of a film.  fresh\n",
       "4  chrissy_judy         Refreshingly witty honest tender and funny  fresh"
      ]
     },
     "execution_count": 5,
     "metadata": {},
     "output_type": "execute_result"
    }
   ],
   "source": [
    "text_data = pd.read_csv('movies.csv', header=0)\n",
    "text_data.columns = [\"name\", \"comment\", \"label\"]\n",
    "print(text_data.shape)\n",
    "text_data = text_data.astype(str)\n",
    "text_data.head()\n"
   ]
  },
  {
   "attachments": {},
   "cell_type": "markdown",
   "metadata": {},
   "source": [
    "# Process data"
   ]
  },
  {
   "cell_type": "code",
   "execution_count": 6,
   "metadata": {},
   "outputs": [
    {
     "name": "stdout",
     "output_type": "stream",
     "text": [
      "0        Theres refreshing Chrissy Judy arriving allowi...\n",
      "1        Chrissy Judy story young adult crisis finding ...\n",
      "2        Flahertys writing performance pretense positiv...\n",
      "3                                        A torch song film\n",
      "4                   Refreshingly witty honest tender funny\n",
      "                               ...                        \n",
      "21016    This intimate gay drama complex relationship w...\n",
      "21017                                                  nan\n",
      "21018                                                  nan\n",
      "21019    A compelling drama suffering servanthood minis...\n",
      "21020                                                  nan\n",
      "Name: comment, Length: 21021, dtype: object\n"
     ]
    }
   ],
   "source": [
    "import pandas as pd\n",
    "import re\n",
    "from bs4 import BeautifulSoup\n",
    "import spacy\n",
    "from spacy.lang.en.stop_words import STOP_WORDS\n",
    "\n",
    "# Load the spaCy language model\n",
    "nlp = spacy.load('en_core_web_sm')\n",
    "\n",
    "\n",
    "def preprocess_text(df):\n",
    "    # Remove Emails\n",
    "    df['comment'] = df['comment'].apply(lambda x: re.sub(\n",
    "        r'([a-zA-Z0-9+._-]+@[a-zA-Z0-9._-]+\\.[a-zA-Z0-9_-]+)', '', x))\n",
    "\n",
    "    # Remove urls\n",
    "    df['comment'] = df['comment'].apply(lambda x: re.sub(\n",
    "        r'(http|ftp|https)://([\\w_-]+(?:(?:\\.[\\w_-]+)+))([\\w.,@?^=%&:/~+#-]*[\\w@?^=%&/~+#-])?', '', x))\n",
    "\n",
    "    # Removal of special chars and punctuation\n",
    "    df['comment'] = df['comment'].apply(\n",
    "        lambda x: re.sub('[^a-z A-Z 0-9-]+', '', x))\n",
    "\n",
    "    # Removing multiple spaces\n",
    "    df['comment'] = df['comment'].apply(lambda x: ' '.join(x.split()))\n",
    "\n",
    "    # Remove HTML\n",
    "    df['comment'] = df['comment'].apply(\n",
    "        lambda x: BeautifulSoup(x, 'lxml').get_text())\n",
    "\n",
    "    # Create a spaCy Doc object\n",
    "    df['comment'] = df['comment'].apply(lambda x: ' '.join(\n",
    "        [t for t in x.split() if t not in STOP_WORDS]))\n",
    "\n",
    "    return df\n",
    "\n",
    "df = preprocess_text(text_data)\n",
    "print(df['comment'])  # Output: \"example text email punctuation\"\n"
   ]
  },
  {
   "attachments": {},
   "cell_type": "markdown",
   "metadata": {},
   "source": [
    "# Train SVM"
   ]
  },
  {
   "cell_type": "code",
   "execution_count": 7,
   "metadata": {},
   "outputs": [],
   "source": [
    "vec = TfidfVectorizer(stop_words='english', min_df=7,\n",
    "                      ngram_range=(1, 2), max_df=0.8)\n",
    "X_data = vec.fit_transform(df['comment'])\n",
    "df['sentiment_score'] = np.where(\n",
    "    df['label'] == 'fresh', 1, 0)\n",
    "Y_data = df['sentiment_score']\n",
    "\n",
    "Xtrain, Xtest, Ytrain, Ytest = train_test_split(\n",
    "    X_data, Y_data, test_size=0.15, random_state=0)\n",
    "\n",
    "#Support Vector Machine (not cross-validating here)\n",
    "clf = SVC(kernel='rbf', probability=True).fit(Xtrain, Ytrain)\n",
    "clf_score = clf.score(Xtest, Ytest)\n",
    "\n",
    "\n",
    "# # Train the SVM classifier\n",
    "# classifier = SVC(kernel='linear')\n",
    "# classifier.fit(vectorized_sentences, labels)\n"
   ]
  },
  {
   "cell_type": "code",
   "execution_count": 9,
   "metadata": {},
   "outputs": [
    {
     "name": "stdout",
     "output_type": "stream",
     "text": [
      "The accuracy for the kernel SVC model is 0.9540266328471781\n",
      "The F1 for the kernel SVC model is 0.9689972204404532\n"
     ]
    }
   ],
   "source": [
    "print('The accuracy for the kernel SVC model is '+str(clf_score))\n",
    "clf_f1score = f1_score(Ytest, clf.predict(Xtest))\n",
    "print('The F1 for the kernel SVC model is '+str(clf_f1score))\n"
   ]
  },
  {
   "cell_type": "code",
   "execution_count": 11,
   "metadata": {},
   "outputs": [
    {
     "data": {
      "text/plain": [
       "['movies_vec.pkl']"
      ]
     },
     "execution_count": 11,
     "metadata": {},
     "output_type": "execute_result"
    }
   ],
   "source": [
    "import joblib\n",
    "joblib.dump(clf,\"%s.pkl\"%\"movies\")\n",
    "joblib.dump(vec, \"%s.pkl\" % \"movies_vec\")\n"
   ]
  },
  {
   "cell_type": "code",
   "execution_count": 13,
   "metadata": {},
   "outputs": [
    {
     "name": "stdout",
     "output_type": "stream",
     "text": [
      "[0] 0.9939244428334526\n"
     ]
    }
   ],
   "source": [
    "estimator = joblib.load(\"%s.pkl\"%\"movies\")\n",
    "pkl_vec = joblib.load(\"%s.pkl\" % \"movies_vec\")\n",
    "# Test on a new sentence\n",
    "\n",
    "\n",
    "def test(clf, vec, text):\n",
    "    test_vectorized_sentence = vec.transform([text])\n",
    "    prediction = clf.predict(test_vectorized_sentence)\n",
    "    # Output: [1] (positive sentiment)\n",
    "    print(prediction, clf.predict_proba(\n",
    "        test_vectorized_sentence)[0][prediction[0]])\n",
    "\n",
    "\n",
    "test(estimator, pkl_vec, \"This movie is shit\")\n"
   ]
  }
 ],
 "metadata": {
  "kernelspec": {
   "display_name": "py37",
   "language": "python",
   "name": "python3"
  },
  "language_info": {
   "codemirror_mode": {
    "name": "ipython",
    "version": 3
   },
   "file_extension": ".py",
   "mimetype": "text/x-python",
   "name": "python",
   "nbconvert_exporter": "python",
   "pygments_lexer": "ipython3",
   "version": "3.7.11"
  },
  "orig_nbformat": 4
 },
 "nbformat": 4,
 "nbformat_minor": 2
}
